{
 "cells": [
  {
   "cell_type": "code",
   "execution_count": 6,
   "id": "1c30fb8f",
   "metadata": {},
   "outputs": [
    {
     "name": "stdout",
     "output_type": "stream",
     "text": [
      "defaultdict(<class 'int'>, {'apple': 3, 'banana': 2, 'orange': 1})\n",
      "[('apple', 3), ('banana', 2), ('orange', 1)]\n"
     ]
    }
   ],
   "source": [
    "items = ['apple', 'banana', 'apple', 'orange', 'banana', 'apple']\n",
    "def count_item(l):\n",
    "    l1 = dict()\n",
    "    for i in l:\n",
    "        if i not in l1: l1[i] = 1\n",
    "        else: l1[i] +=1\n",
    "    return l1\n",
    "\n",
    "count = count_item(items)\n",
    "\n",
    "#using counters \n",
    "from collections import Counter\n",
    "count2 = Counter(items)\n",
    "\n",
    "#using default dict\n",
    "from collections import defaultdict\n",
    "count3 = defaultdict(int)\n",
    "\n",
    "for i in items:\n",
    "    count3[i] +=1\n",
    "print(count3)\n",
    "\n",
    "#sorting i descending order\n",
    "\n",
    "sorted_count3 = sorted(count3.items(), key=lambda x: x[1], reverse=True)\n",
    "print(sorted_count3)"
   ]
  },
  {
   "cell_type": "code",
   "execution_count": null,
   "id": "e0de7e6e",
   "metadata": {},
   "outputs": [
    {
     "data": {
      "text/plain": [
       "defaultdict(int, {'apple': 17, 'banana': 15, 'orange': 8})"
      ]
     },
     "execution_count": 17,
     "metadata": {},
     "output_type": "execute_result"
    }
   ],
   "source": [
    "from collections import defaultdict\n",
    "x = defaultdict(int)\n",
    "with open(\"fruits.txt\", \"r\") as data:\n",
    "    for line in data:\n",
    "        x[line.split(\",\")[0]] += int(line.split(\",\")[1])\n",
    "x\n"
   ]
  },
  {
   "cell_type": "code",
   "execution_count": 12,
   "id": "2ac55e2e",
   "metadata": {},
   "outputs": [
    {
     "name": "stdout",
     "output_type": "stream",
     "text": [
      "apple 10\n",
      "banana 5\n",
      "apple seven\n",
      "banana 6\n",
      "orange 8\n"
     ]
    },
    {
     "data": {
      "text/plain": [
       "defaultdict(int, {'apple': 10, 'banana': 11, 'orange': 8})"
      ]
     },
     "execution_count": 12,
     "metadata": {},
     "output_type": "execute_result"
    }
   ],
   "source": [
    "# ruf = [(\"hello\", 2),(\"hello\"), (\"banana\", \"seven\"), (), (\"\\n\\n\\n\")]\n",
    "from collections import defaultdict\n",
    "x = defaultdict(int)\n",
    "\n",
    "with open(\"fruits.txt\", \"r\") as data:\n",
    "    for item in data:\n",
    "        item = item.strip()\n",
    "        try:\n",
    "            a,b = item.split(',')\n",
    "            print(a, b)\n",
    "            x[a] += int(b)\n",
    "        except ValueError:\n",
    "            continue\n",
    "x"
   ]
  },
  {
   "cell_type": "code",
   "execution_count": null,
   "id": "c98a91a6",
   "metadata": {},
   "outputs": [],
   "source": [
    "#writing class\n",
    "class Product():\n",
    "    def __init__(self, name, price):\n",
    "        self.name = name\n",
    "        self.price = price\n",
    "    def apply_discount(self, d):\n",
    "        d_price = self.price*(1-d/100)\n",
    "        return d_price\n",
    "    def __repr__(self):\n",
    "        return (f\"Product({self.name}, {self.price})\")\n",
    "    \n",
    "class Book(Product):\n",
    "    def __init__(self, name, price,author):\n",
    "        super().__init__(name, price)\n",
    "        self.author = author\n",
    "    def __repr__(self):\n",
    "        return f\"name='{self.name}', price={self.price}, author='{self.author}'\"\n",
    "    \n",
    "class ShopingCart():\n",
    "    def __init__(self):\n",
    "        self.cart = []\n",
    "\n",
    "    def add_product(self, product:Product):\n",
    "        self.cart.append(product)\n",
    "\n",
    "    def calculate_total(self):\n",
    "        return sum((product.price for product in self.cart))"
   ]
  },
  {
   "cell_type": "code",
   "execution_count": 21,
   "id": "97c816e0",
   "metadata": {},
   "outputs": [
    {
     "name": "stdout",
     "output_type": "stream",
     "text": [
      "calling the function...\n",
      "Adding 1 + 2\n",
      "function finished\n"
     ]
    },
    {
     "data": {
      "text/plain": [
       "3"
      ]
     },
     "execution_count": 21,
     "metadata": {},
     "output_type": "execute_result"
    }
   ],
   "source": [
    "\n",
    "\n",
    "def logger_decorator(fx):\n",
    "    def wrapper(*args, **kwargs):\n",
    "        print(\"calling the function...\")\n",
    "        value = fx(*args, **kwargs)\n",
    "        print(\"function finished\")\n",
    "        return value\n",
    "    return wrapper\n",
    "\n",
    "@logger_decorator\n",
    "def add(a, b):\n",
    "    print(f\"Adding {a} + {b}\")\n",
    "    return a + b\n",
    "\n",
    "add(1,2)"
   ]
  },
  {
   "cell_type": "code",
   "execution_count": null,
   "id": "4fc94c7c",
   "metadata": {},
   "outputs": [
    {
     "name": "stdout",
     "output_type": "stream",
     "text": [
      "hello\n",
      "hello\n",
      "hello\n",
      "hello\n",
      "hello\n",
      "hello\n",
      "hello\n",
      "hello\n",
      "hello\n",
      "hello\n"
     ]
    }
   ],
   "source": [
    "def repeat(n):\n",
    "    def decorator(func):\n",
    "        def wrapper(*args, **kwargs):\n",
    "            for _ in range(n):\n",
    "                func(*args, **kwargs)\n",
    "            \n",
    "        return wrapper\n",
    "    return decorator\n",
    "\n",
    "@repeat(10)\n",
    "def hello():\n",
    "    print(\"hello\")\n",
    "hello()"
   ]
  },
  {
   "cell_type": "code",
   "execution_count": 24,
   "id": "7079828a",
   "metadata": {},
   "outputs": [
    {
     "name": "stdout",
     "output_type": "stream",
     "text": [
      "Generated: 23\n",
      "Generated: 8\n",
      "Generated: 35\n",
      "Generated: 89\n",
      "List of results: [23, 8, 35, 89]\n"
     ]
    }
   ],
   "source": [
    "import random\n",
    "def repeat(n):\n",
    "    def decorator(fn):\n",
    "        def wrapper(*args, **kwargs):\n",
    "            res =list()\n",
    "            for _ in range(n):\n",
    "                res.append(fn(*args, **kwargs))\n",
    "            return res\n",
    "        return wrapper\n",
    "    return decorator\n",
    "\n",
    "@repeat(4)\n",
    "def get_random_number():\n",
    "    num = random.randint(1, 100)\n",
    "    print(f\"Generated: {num}\")\n",
    "    return num\n",
    "\n",
    "# This should call the function 4 times and return a list of the 4 numbers\n",
    "numbers_list = get_random_number()\n",
    "print(f\"List of results: {numbers_list}\")"
   ]
  },
  {
   "cell_type": "code",
   "execution_count": 31,
   "id": "3475525d",
   "metadata": {},
   "outputs": [
    {
     "name": "stdout",
     "output_type": "stream",
     "text": [
      "add\n",
      "This is a function that adds two numbers.\n"
     ]
    }
   ],
   "source": [
    "import functools\n",
    "\n",
    "def logger_decorator(fn):\n",
    "    @functools.wraps(fn)\n",
    "    def wrapper(*args, **kwargs):\n",
    "        print(\"Calling the function...\")\n",
    "        value = fn(*args, **kwargs)\n",
    "        print(\"Function has finished.\")\n",
    "        return value\n",
    "    return wrapper\n",
    "\n",
    "@logger_decorator\n",
    "def add(a, b):\n",
    "    \"\"\"This is a function that adds two numbers.\"\"\"\n",
    "    return a + b\n",
    "\n",
    "# These should now print the correct information\n",
    "print(add.__name__) # Should print 'add'\n",
    "print(add.__doc__)  # Should print 'This is a function that adds two numbers.'"
   ]
  },
  {
   "cell_type": "code",
   "execution_count": null,
   "id": "849e0213",
   "metadata": {},
   "outputs": [],
   "source": [
    "import asyncio\n",
    "import random\n",
    "\n",
    "class DataStreamer:\n",
    "    def __init__(self, n):\n",
    "        self.n = n\n",
    "        self._buffer = []\n",
    "\n",
    "    async def produce(self):\n",
    "        for i in range(self.n):\n",
    "            await asyncio.sleep(random.uniform(0.1, 0.3))\n",
    "            value = random.randint(1, 100)\n",
    "            print(f\"[Producer] Produced: {value}\")\n",
    "            self._buffer.append(value)\n",
    "        self._buffer.append(None)  # signal end of stream\n",
    "\n",
    "    async def consume(self):\n",
    "        while True:\n",
    "            if self._buffer:\n",
    "                item = self._buffer.pop(0)\n",
    "                if item is None:\n",
    "                    print(\"[Consumer] End of stream.\")\n",
    "                    break\n",
    "                await asyncio.sleep(0.2)\n",
    "                print(f\"[Consumer] Consumed: {item}\")\n",
    "            else:\n",
    "                await asyncio.sleep(0.05)\n",
    "\n",
    "async def main():\n",
    "    streamer = DataStreamer(5)\n",
    "    producer = asyncio.create_task(streamer.produce())\n",
    "    consumer = asyncio.create_task(streamer.consume())\n",
    "    await asyncio.gather(producer, consumer)\n",
    "\n",
    "if __name__ == \"__main__\":\n",
    "    asyncio.run(main())\n"
   ]
  }
 ],
 "metadata": {
  "kernelspec": {
   "display_name": "Python 3",
   "language": "python",
   "name": "python3"
  },
  "language_info": {
   "codemirror_mode": {
    "name": "ipython",
    "version": 3
   },
   "file_extension": ".py",
   "mimetype": "text/x-python",
   "name": "python",
   "nbconvert_exporter": "python",
   "pygments_lexer": "ipython3",
   "version": "3.13.3"
  }
 },
 "nbformat": 4,
 "nbformat_minor": 5
}
